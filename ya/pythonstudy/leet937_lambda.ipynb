{
 "cells": [
  {
   "cell_type": "markdown",
   "metadata": {},
   "source": [
    "# 로그 재정렬\n",
    "1. 로그의 가장 앞 부분은 식별자\n",
    "1. 문자로 구성된 로그가 숫자 로그보다 앞\n",
    "1. 식별자는 순서에 영향x, 문자가 동일한 경우 식별자 순\n",
    "1. 숫자 로그는 입력 순서대로"
   ]
  },
  {
   "cell_type": "code",
   "execution_count": 2,
   "metadata": {},
   "outputs": [],
   "source": [
    "log = ['dig1 8 1 5 1','let1 art can', 'dig2 3 6', 'let2 own kit dig', 'let3 art zero']"
   ]
  },
  {
   "cell_type": "code",
   "execution_count": 3,
   "metadata": {},
   "outputs": [],
   "source": [
    "def log_resort(log_list):\n",
    "    dig_list = []\n",
    "    let_list = []\n",
    "    # distinguish between log of letters and log with numbers\n",
    "    for log in log_list:\n",
    "        log_element = log.split()\n",
    "        if log_element[1].isdigit():\n",
    "            dig_list.append(log)\n",
    "        else:\n",
    "            let_list.append(log)\n",
    "    let_list.sort(key = lambda x: (x.split()[1:], x.split()[0]))\n",
    "    return let_list + dig_list"
   ]
  },
  {
   "cell_type": "code",
   "execution_count": null,
   "metadata": {},
   "outputs": [],
   "source": [
    "log_reso"
   ]
  }
 ],
 "metadata": {
  "kernelspec": {
   "display_name": "Python 3",
   "language": "python",
   "name": "python3"
  },
  "language_info": {
   "codemirror_mode": {
    "name": "ipython",
    "version": 3
   },
   "file_extension": ".py",
   "mimetype": "text/x-python",
   "name": "python",
   "nbconvert_exporter": "python",
   "pygments_lexer": "ipython3",
   "version": "3.8.3"
  }
 },
 "nbformat": 4,
 "nbformat_minor": 4
}
