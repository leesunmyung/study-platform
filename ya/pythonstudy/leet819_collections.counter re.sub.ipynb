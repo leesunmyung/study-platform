{
 "cells": [
  {
   "cell_type": "markdown",
   "metadata": {},
   "source": [
    "# 금지된 단어 제외 가장 흔하게 등장하는 단어 출력.\n",
    "# 대소문자 구분x, 구두점 무시"
   ]
  },
  {
   "cell_type": "code",
   "execution_count": 1,
   "metadata": {},
   "outputs": [],
   "source": [
    "paragraph = \"Bob hit a ball, the hit BALL flew far after it was hit.\"\n",
    "banned = [\"hit\"]"
   ]
  },
  {
   "cell_type": "code",
   "execution_count": 35,
   "metadata": {},
   "outputs": [],
   "source": [
    "import collections\n",
    "import re\n",
    "def most_frequent(sentence, banned):\n",
    "    words = []\n",
    "    #구두점 제거\n",
    "    sentence = re.sub('[^a-zA-Z ]','',sentence)\n",
    "    \n",
    "    #소문자화 및 금지 단어 제거\n",
    "    for word in sentence.split():\n",
    "        word = word.lower()\n",
    "        if word not in banned:\n",
    "            words.append(word)\n",
    "        \n",
    "    #collections.Counter() 이용해 가장 빈번하게 발생한 단어 찾기\n",
    "    count = collections.Counter(words)\n",
    "    \n",
    "    return count.most_common(1)[0][0]\n",
    "            "
   ]
  },
  {
   "cell_type": "code",
   "execution_count": 36,
   "metadata": {},
   "outputs": [
    {
     "name": "stdout",
     "output_type": "stream",
     "text": [
      "Counter({'ball': 2, 'bob': 1, 'a': 1, 'the': 1, 'flew': 1, 'far': 1, 'after': 1, 'it': 1, 'was': 1})\n"
     ]
    },
    {
     "data": {
      "text/plain": [
       "'ball'"
      ]
     },
     "execution_count": 36,
     "metadata": {},
     "output_type": "execute_result"
    }
   ],
   "source": [
    "most_frequent(paragraph, banned)"
   ]
  }
 ],
 "metadata": {
  "kernelspec": {
   "display_name": "Python 3",
   "language": "python",
   "name": "python3"
  },
  "language_info": {
   "codemirror_mode": {
    "name": "ipython",
    "version": 3
   },
   "file_extension": ".py",
   "mimetype": "text/x-python",
   "name": "python",
   "nbconvert_exporter": "python",
   "pygments_lexer": "ipython3",
   "version": "3.8.3"
  }
 },
 "nbformat": 4,
 "nbformat_minor": 4
}
