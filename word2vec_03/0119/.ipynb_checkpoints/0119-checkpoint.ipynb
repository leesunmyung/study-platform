{
 "cells": [
  {
   "cell_type": "code",
   "execution_count": 13,
   "metadata": {},
   "outputs": [
    {
     "name": "stdout",
     "output_type": "stream",
     "text": [
      "Word2Vec Modeling finished\n"
     ]
    }
   ],
   "source": [
    "from gensim.models import word2vec\n",
    "import sys\n",
    "\n",
    " #Word2Vec 모델 만들기\n",
    "path = \"c:/Users/vivid/바탕 화면/word2vec_03/0119/mixver2.nlp\"\n",
    "wData = word2vec.LineSentence(path)\n",
    "\n",
    "wModel1 =word2vec.Word2Vec(wData, size=300, window=10, hs=1, min_count=5, sg=1)\n",
    "wModel1.save(\"c:/Users/vivid/바탕 화면/word2vec_03/0119/mixver2_s300.model\")\n",
    "\n",
    "wModel2 =word2vec.Word2Vec(wData, size=400, window=10, hs=1, min_count=5, sg=1)\n",
    "wModel2.save(\"c:/Users/vivid/바탕 화면/word2vec_03/0119/mixver2_s400.model\")\n",
    "print(\"Word2Vec Modeling finished\")"
   ]
  },
  {
   "cell_type": "code",
   "execution_count": 15,
   "metadata": {},
   "outputs": [
    {
     "name": "stdout",
     "output_type": "stream",
     "text": [
      "Word2Vec Modeling finished\n"
     ]
    }
   ],
   "source": [
    "from gensim.models import word2vec\n",
    "import sys\n",
    "\n",
    " #Word2Vec 모델 만들기\n",
    "path = \"c:/Users/vivid/바탕 화면/word2vec_03/0119/mixver3.nlp\"\n",
    "wData = word2vec.LineSentence(path)\n",
    "\n",
    "wModel0 =word2vec.Word2Vec(wData, size=200, window=10, hs=1, min_count=5, sg=1)\n",
    "wModel0.save(\"c:/Users/vivid/바탕 화면/word2vec_03/0119/mixver3_s200.model\")\n",
    "\n",
    "wModel1 =word2vec.Word2Vec(wData, size=300, window=10, hs=1, min_count=5, sg=1)\n",
    "wModel1.save(\"c:/Users/vivid/바탕 화면/word2vec_03/0119/mixver3_s300.model\")\n",
    "\n",
    "wModel2 =word2vec.Word2Vec(wData, size=400, window=10, hs=1, min_count=5, sg=1)\n",
    "wModel2.save(\"c:/Users/vivid/바탕 화면/word2vec_03/0119/mixver3_s400.model\")\n",
    "print(\"Word2Vec Modeling finished\")"
   ]
  },
  {
   "cell_type": "code",
   "execution_count": 3,
   "metadata": {},
   "outputs": [
    {
     "name": "stdout",
     "output_type": "stream",
     "text": [
      "Word2Vec Modeling finished\n"
     ]
    }
   ],
   "source": [
    "from gensim.models import word2vec\n",
    "import sys\n",
    "\n",
    " #Word2Vec 모델 만들기\n",
    "path = \"c:/Users/vivid/바탕 화면/word2vec_03/0119/mixver5.nlp\"\n",
    "wData = word2vec.LineSentence(path)\n",
    "\n",
    "wModel0 =word2vec.Word2Vec(wData, size=400, window=6, hs=1, min_count=6, sg=1)\n",
    "wModel0.save(\"c:/Users/vivid/바탕 화면/word2vec_03/0119/mixver5_400_w6_m6.model\")\n",
    "\n",
    "wModel1 =word2vec.Word2Vec(wData, size=400, window=6, hs=1, min_count=6, sg=0)\n",
    "wModel1.save(\"c:/Users/vivid/바탕 화면/word2vec_03/0119/mixver5_400_w6_m6_test.model\")\n",
    "\n",
    "print(\"Word2Vec Modeling finished\")"
   ]
  },
  {
   "cell_type": "code",
   "execution_count": null,
   "metadata": {},
   "outputs": [],
   "source": []
  }
 ],
 "metadata": {
  "kernelspec": {
   "display_name": "Python 3",
   "language": "python",
   "name": "python3"
  },
  "language_info": {
   "codemirror_mode": {
    "name": "ipython",
    "version": 3
   },
   "file_extension": ".py",
   "mimetype": "text/x-python",
   "name": "python",
   "nbconvert_exporter": "python",
   "pygments_lexer": "ipython3",
   "version": "3.7.9"
  }
 },
 "nbformat": 4,
 "nbformat_minor": 4
}
