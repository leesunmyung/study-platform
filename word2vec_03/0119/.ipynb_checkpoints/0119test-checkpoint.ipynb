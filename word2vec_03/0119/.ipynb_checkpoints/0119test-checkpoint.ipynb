{
 "cells": [
  {
   "cell_type": "code",
   "execution_count": 8,
   "metadata": {},
   "outputs": [
    {
     "name": "stdout",
     "output_type": "stream",
     "text": [
      "[('꽃담', 0.623580813407898), ('Leaf', 0.5790846943855286), ('웰시코기', 0.577523410320282), ('Artwork', 0.5754215717315674), ('혁구', 0.5676978826522827), ('낱', 0.5655852556228638), ('달력', 0.5617016553878784), ('동산', 0.5569603443145752), ('탁상달력', 0.5477901697158813), ('색연필', 0.5457218885421753)] \n",
      "\n",
      "[('꽃담', 0.6041922569274902), ('낱', 0.5660931468009949), ('웰시코기', 0.5651032328605652), ('혁구', 0.5222692489624023), ('동산', 0.518616795539856), ('Leaf', 0.5176913738250732), ('색연필', 0.516717791557312), ('캐빗', 0.5108133554458618), ('포르투갈', 0.5105001330375671), ('패브릭', 0.508238673210144)] \n",
      "\n",
      "[('꽃담', 0.5636469721794128), ('낱', 0.5580002069473267), ('웰시코기', 0.5406031608581543), ('혁구', 0.5302265882492065), ('Leaf', 0.5104162693023682), ('색연필', 0.5064998269081116), ('Artwork', 0.49963831901550293), ('동산', 0.49685823917388916), ('월요일', 0.48790329694747925), ('포르투갈', 0.4860724210739136)] \n",
      "\n"
     ]
    },
    {
     "name": "stderr",
     "output_type": "stream",
     "text": [
      "C:\\Users\\vivid\\Anaconda3\\envs\\test3\\lib\\site-packages\\ipykernel_launcher.py:10: DeprecationWarning: Call to deprecated `most_similar` (Method will be removed in 4.0.0, use self.wv.most_similar() instead).\n",
      "  # Remove the CWD from sys.path while we load stuff.\n",
      "C:\\Users\\vivid\\Anaconda3\\envs\\test3\\lib\\site-packages\\ipykernel_launcher.py:11: DeprecationWarning: Call to deprecated `most_similar` (Method will be removed in 4.0.0, use self.wv.most_similar() instead).\n",
      "  # This is added back by InteractiveShellApp.init_path()\n",
      "C:\\Users\\vivid\\Anaconda3\\envs\\test3\\lib\\site-packages\\ipykernel_launcher.py:12: DeprecationWarning: Call to deprecated `most_similar` (Method will be removed in 4.0.0, use self.wv.most_similar() instead).\n",
      "  if sys.path[0] == '':\n"
     ]
    }
   ],
   "source": [
    "from gensim.models import word2vec\n",
    "#from models.word_eval import WordEmbeddingEvaluator\n",
    "\n",
    "model_ver3_s200 = word2vec.Word2Vec.load('c:/Users/vivid/바탕 화면/word2vec_03/0119/mixver3_s200.model')\n",
    "model_ver3_s300 = word2vec.Word2Vec.load('c:/Users/vivid/바탕 화면/word2vec_03/0119/mixver3_s300.model')\n",
    "model_ver3_s400 = word2vec.Word2Vec.load('c:/Users/vivid/바탕 화면/word2vec_03/0119/mixver3_s400.model')\n",
    "\n",
    "word = '캘린더'\n",
    "\n",
    "print(model_ver3_s200.most_similar(positive=[word], topn=10), '\\n')\n",
    "print(model_ver3_s300.most_similar(positive=[word], topn=10), '\\n')\n",
    "print(model_ver3_s400.most_similar(positive=[word], topn=10), '\\n')"
   ]
  },
  {
   "cell_type": "code",
   "execution_count": 9,
   "metadata": {},
   "outputs": [
    {
     "name": "stdout",
     "output_type": "stream",
     "text": [
      "[('포스터', 0.6238025426864624), ('피클', 0.6061544418334961), ('sera', 0.5957247018814087), ('balance', 0.590214729309082), ('색종이', 0.589805006980896), ('Sera', 0.5782171487808228), ('사롱', 0.551131010055542), ('Que', 0.5508118867874146), ('Leaf', 0.54847252368927), ('즐거움', 0.5454695224761963)] \n",
      "\n",
      "[('포스터', 0.6217029094696045), ('피클', 0.5862928628921509), ('Sera', 0.5829739570617676), ('balance', 0.5802938938140869), ('sera', 0.579703688621521), ('색종이', 0.5782877206802368), ('리폼', 0.5715452432632446), ('사롱', 0.5697852373123169), ('Que', 0.5546602606773376), ('아지', 0.5451124906539917)] \n",
      "\n",
      "[('포스터', 0.6377127766609192), ('balance', 0.580339789390564), ('색종이', 0.579572319984436), ('sera', 0.5738063454627991), ('피클', 0.5624232292175293), ('Sera', 0.5613173842430115), ('Que', 0.547466516494751), ('리폼', 0.5405245423316956), ('Leaf', 0.5170758366584778), ('아지', 0.5137662291526794)] \n",
      "\n"
     ]
    },
    {
     "name": "stderr",
     "output_type": "stream",
     "text": [
      "C:\\Users\\vivid\\Anaconda3\\envs\\test3\\lib\\site-packages\\ipykernel_launcher.py:3: DeprecationWarning: Call to deprecated `most_similar` (Method will be removed in 4.0.0, use self.wv.most_similar() instead).\n",
      "  This is separate from the ipykernel package so we can avoid doing imports until\n",
      "C:\\Users\\vivid\\Anaconda3\\envs\\test3\\lib\\site-packages\\ipykernel_launcher.py:4: DeprecationWarning: Call to deprecated `most_similar` (Method will be removed in 4.0.0, use self.wv.most_similar() instead).\n",
      "  after removing the cwd from sys.path.\n",
      "C:\\Users\\vivid\\Anaconda3\\envs\\test3\\lib\\site-packages\\ipykernel_launcher.py:5: DeprecationWarning: Call to deprecated `most_similar` (Method will be removed in 4.0.0, use self.wv.most_similar() instead).\n",
      "  \"\"\"\n"
     ]
    }
   ],
   "source": [
    "word = '패브릭'\n",
    "\n",
    "print(model_ver3_s200.most_similar(positive=[word], topn=10), '\\n')\n",
    "print(model_ver3_s300.most_similar(positive=[word], topn=10), '\\n')\n",
    "print(model_ver3_s400.most_similar(positive=[word], topn=10), '\\n')"
   ]
  },
  {
   "cell_type": "code",
   "execution_count": 10,
   "metadata": {},
   "outputs": [
    {
     "name": "stdout",
     "output_type": "stream",
     "text": [
      "[('도리', 0.6321066617965698), ('평온하다', 0.5834001302719116), ('아이슬란드', 0.5636327862739563), ('캘린더', 0.5617016553878784), ('햇반', 0.5485889315605164), ('소우주', 0.5446946620941162), ('루씨', 0.5394855737686157), ('꿈결', 0.5382767915725708), ('희귀', 0.5320558547973633), ('꽃담', 0.5303047299385071)] \n",
      "\n",
      "[('도리', 0.56999671459198), ('아이슬란드', 0.5331709384918213), ('평온하다', 0.5192269682884216), ('햇반', 0.5117656588554382), ('꿈결', 0.504303514957428), ('소우주', 0.5034192800521851), ('엽서', 0.5007096529006958), ('캘린더', 0.4960135221481323), ('웰시코기', 0.4947347939014435), ('캐빗', 0.49321603775024414)] \n",
      "\n",
      "[('도리', 0.5766201019287109), ('평온하다', 0.5095577239990234), ('꿈결', 0.5049149990081787), ('햇반', 0.49747511744499207), ('루씨', 0.49379104375839233), ('커브', 0.49098315834999084), ('울면', 0.48881274461746216), ('아이슬란드', 0.4886583685874939), ('절기', 0.4882352948188782), ('엽서', 0.48690780997276306)] \n",
      "\n"
     ]
    },
    {
     "name": "stderr",
     "output_type": "stream",
     "text": [
      "C:\\Users\\vivid\\Anaconda3\\envs\\test3\\lib\\site-packages\\ipykernel_launcher.py:3: DeprecationWarning: Call to deprecated `most_similar` (Method will be removed in 4.0.0, use self.wv.most_similar() instead).\n",
      "  This is separate from the ipykernel package so we can avoid doing imports until\n",
      "C:\\Users\\vivid\\Anaconda3\\envs\\test3\\lib\\site-packages\\ipykernel_launcher.py:4: DeprecationWarning: Call to deprecated `most_similar` (Method will be removed in 4.0.0, use self.wv.most_similar() instead).\n",
      "  after removing the cwd from sys.path.\n",
      "C:\\Users\\vivid\\Anaconda3\\envs\\test3\\lib\\site-packages\\ipykernel_launcher.py:5: DeprecationWarning: Call to deprecated `most_similar` (Method will be removed in 4.0.0, use self.wv.most_similar() instead).\n",
      "  \"\"\"\n"
     ]
    }
   ],
   "source": [
    "word = '달력'\n",
    "\n",
    "print(model_ver3_s200.most_similar(positive=[word], topn=10), '\\n')\n",
    "print(model_ver3_s300.most_similar(positive=[word], topn=10), '\\n')\n",
    "print(model_ver3_s400.most_similar(positive=[word], topn=10), '\\n')"
   ]
  },
  {
   "cell_type": "code",
   "execution_count": 11,
   "metadata": {},
   "outputs": [
    {
     "name": "stdout",
     "output_type": "stream",
     "text": [
      "[('드립', 0.7100027203559875), ('콜드브루', 0.6720747947692871), ('에티오피아', 0.6295490860939026), ('챔피언', 0.6133643388748169), ('브루', 0.6076610088348389), ('블랜딩', 0.5870561003684998), ('해장', 0.5866851806640625), ('게이샤', 0.5597164630889893), ('입안', 0.5529830455780029), ('짓', 0.5476350784301758)] \n",
      "\n",
      "[('드립', 0.7097160816192627), ('콜드브루', 0.6487781405448914), ('에티오피아', 0.6208862662315369), ('해장', 0.5929784774780273), ('챔피언', 0.5849913358688354), ('블랜딩', 0.5696684122085571), ('브루', 0.5606709718704224), ('입안', 0.5406171083450317), ('버블티', 0.5259630084037781), ('디카페인', 0.5171083807945251)] \n",
      "\n",
      "[('드립', 0.7026536464691162), ('콜드브루', 0.6478608846664429), ('에티오피아', 0.6032065153121948), ('블랜딩', 0.5977305769920349), ('해장', 0.5944098830223083), ('챔피언', 0.582738995552063), ('브루', 0.567276120185852), ('게이샤', 0.5402715802192688), ('짓', 0.534899115562439), ('디카페인', 0.5287929177284241)] \n",
      "\n"
     ]
    },
    {
     "name": "stderr",
     "output_type": "stream",
     "text": [
      "C:\\Users\\vivid\\Anaconda3\\envs\\test3\\lib\\site-packages\\ipykernel_launcher.py:3: DeprecationWarning: Call to deprecated `most_similar` (Method will be removed in 4.0.0, use self.wv.most_similar() instead).\n",
      "  This is separate from the ipykernel package so we can avoid doing imports until\n",
      "C:\\Users\\vivid\\Anaconda3\\envs\\test3\\lib\\site-packages\\ipykernel_launcher.py:4: DeprecationWarning: Call to deprecated `most_similar` (Method will be removed in 4.0.0, use self.wv.most_similar() instead).\n",
      "  after removing the cwd from sys.path.\n",
      "C:\\Users\\vivid\\Anaconda3\\envs\\test3\\lib\\site-packages\\ipykernel_launcher.py:5: DeprecationWarning: Call to deprecated `most_similar` (Method will be removed in 4.0.0, use self.wv.most_similar() instead).\n",
      "  \"\"\"\n"
     ]
    }
   ],
   "source": [
    "word = '커피'\n",
    "\n",
    "print(model_ver3_s200.most_similar(positive=[word], topn=10), '\\n')\n",
    "print(model_ver3_s300.most_similar(positive=[word], topn=10), '\\n')\n",
    "print(model_ver3_s400.most_similar(positive=[word], topn=10), '\\n')"
   ]
  },
  {
   "cell_type": "code",
   "execution_count": 12,
   "metadata": {},
   "outputs": [
    {
     "name": "stdout",
     "output_type": "stream",
     "text": [
      "[('오감', 0.6035796999931335), ('화초', 0.5809133052825928), ('산나물', 0.5807238221168518), ('토비', 0.5601540803909302), ('백금', 0.5385050773620605), ('기념일', 0.535446286201477), ('심지', 0.5335614085197449), ('요나폿', 0.5303632020950317), ('먼트', 0.5257812142372131), ('아이비', 0.525492787361145)] \n",
      "\n",
      "[('오감', 0.5270314812660217), ('산나물', 0.5258340835571289), ('화초', 0.5132067799568176), ('먼트', 0.50783371925354), ('토비', 0.5066663026809692), ('볼로냐', 0.4997698664665222), ('배송', 0.49478352069854736), ('기념일', 0.48499995470046997), ('피카', 0.4801689386367798), ('참치회', 0.47733432054519653)] \n",
      "\n",
      "[('오감', 0.5481472015380859), ('화초', 0.5422080755233765), ('산나물', 0.5394794344902039), ('토비', 0.5356202125549316), ('심지', 0.5165245532989502), ('백금', 0.5145448446273804), ('먼트', 0.5007972717285156), ('참치회', 0.49254024028778076), ('기념일', 0.47895315289497375), ('피카', 0.47329598665237427)] \n",
      "\n"
     ]
    },
    {
     "name": "stderr",
     "output_type": "stream",
     "text": [
      "C:\\Users\\vivid\\Anaconda3\\envs\\test3\\lib\\site-packages\\ipykernel_launcher.py:3: DeprecationWarning: Call to deprecated `most_similar` (Method will be removed in 4.0.0, use self.wv.most_similar() instead).\n",
      "  This is separate from the ipykernel package so we can avoid doing imports until\n",
      "C:\\Users\\vivid\\Anaconda3\\envs\\test3\\lib\\site-packages\\ipykernel_launcher.py:4: DeprecationWarning: Call to deprecated `most_similar` (Method will be removed in 4.0.0, use self.wv.most_similar() instead).\n",
      "  after removing the cwd from sys.path.\n",
      "C:\\Users\\vivid\\Anaconda3\\envs\\test3\\lib\\site-packages\\ipykernel_launcher.py:5: DeprecationWarning: Call to deprecated `most_similar` (Method will be removed in 4.0.0, use self.wv.most_similar() instead).\n",
      "  \"\"\"\n"
     ]
    }
   ],
   "source": [
    "word = '크리스마스'\n",
    "\n",
    "print(model_ver3_s200.most_similar(positive=[word], topn=10), '\\n')\n",
    "print(model_ver3_s300.most_similar(positive=[word], topn=10), '\\n')\n",
    "print(model_ver3_s400.most_similar(positive=[word], topn=10), '\\n')"
   ]
  },
  {
   "cell_type": "code",
   "execution_count": 13,
   "metadata": {},
   "outputs": [
    {
     "name": "stdout",
     "output_type": "stream",
     "text": [
      "[('왕관', 0.7283428311347961), ('루비', 0.7223330140113831), ('다이아몬드', 0.6835037469863892), ('암시', 0.6582833528518677), ('은볼', 0.654446005821228), ('덩이', 0.6343991756439209), ('세공', 0.6295335292816162), ('당초', 0.6178117990493774), ('유사', 0.6066685914993286), ('글레이', 0.6021669507026672)] \n",
      "\n",
      "[('왕관', 0.7265965938568115), ('루비', 0.707226037979126), ('덩이', 0.6678401231765747), ('암시', 0.6621804237365723), ('은볼', 0.6483110189437866), ('다이아몬드', 0.6366003751754761), ('덩덩', 0.6191792488098145), ('세공', 0.6103604435920715), ('구렁', 0.6098467111587524), ('당초', 0.5945595502853394)] \n",
      "\n",
      "[('왕관', 0.7200065851211548), ('루비', 0.702211856842041), ('은볼', 0.691543698310852), ('암시', 0.6389865875244141), ('다이아몬드', 0.6374706029891968), ('덩이', 0.6341390013694763), ('구렁', 0.5974904298782349), ('가보', 0.5971441864967346), ('유사', 0.5949044227600098), ('세공', 0.5940940380096436)] \n",
      "\n"
     ]
    },
    {
     "name": "stderr",
     "output_type": "stream",
     "text": [
      "C:\\Users\\vivid\\Anaconda3\\envs\\test3\\lib\\site-packages\\ipykernel_launcher.py:3: DeprecationWarning: Call to deprecated `most_similar` (Method will be removed in 4.0.0, use self.wv.most_similar() instead).\n",
      "  This is separate from the ipykernel package so we can avoid doing imports until\n",
      "C:\\Users\\vivid\\Anaconda3\\envs\\test3\\lib\\site-packages\\ipykernel_launcher.py:4: DeprecationWarning: Call to deprecated `most_similar` (Method will be removed in 4.0.0, use self.wv.most_similar() instead).\n",
      "  after removing the cwd from sys.path.\n",
      "C:\\Users\\vivid\\Anaconda3\\envs\\test3\\lib\\site-packages\\ipykernel_launcher.py:5: DeprecationWarning: Call to deprecated `most_similar` (Method will be removed in 4.0.0, use self.wv.most_similar() instead).\n",
      "  \"\"\"\n"
     ]
    }
   ],
   "source": [
    "word = '반지'\n",
    "\n",
    "print(model_ver3_s200.most_similar(positive=[word], topn=10), '\\n')\n",
    "print(model_ver3_s300.most_similar(positive=[word], topn=10), '\\n')\n",
    "print(model_ver3_s400.most_similar(positive=[word], topn=10), '\\n')"
   ]
  },
  {
   "cell_type": "code",
   "execution_count": 14,
   "metadata": {},
   "outputs": [
    {
     "name": "stdout",
     "output_type": "stream",
     "text": [
      "[('인검', 0.6522879600524902), ('명조체', 0.6398941278457642), ('러빈베어', 0.6117885112762451), ('해빙', 0.6086251735687256), ('K', 0.5912108421325684), ('아이나비', 0.5856176614761353), ('브리앙', 0.5821390151977539), ('가보', 0.5764831304550171), ('당초', 0.5729507207870483), ('탄생화', 0.5718173980712891)] \n",
      "\n",
      "[('명조체', 0.6443260908126831), ('인검', 0.6040803790092468), ('해빙', 0.5979044437408447), ('아이나비', 0.5629645586013794), ('덩이', 0.561772346496582), ('가보', 0.5584368109703064), ('탄생화', 0.5552456378936768), ('러빈베어', 0.5543771982192993), ('브리앙', 0.55317622423172), ('K', 0.5483547449111938)] \n",
      "\n",
      "[('해빙', 0.6350616812705994), ('명조체', 0.6075050234794617), ('인검', 0.5998088121414185), ('러빈베어', 0.5632917284965515), ('K', 0.555980384349823), ('아이나비', 0.5530825853347778), ('탄생화', 0.5473467111587524), ('은볼', 0.5397446751594543), ('글레이', 0.5385909080505371), ('호접문', 0.5326141119003296)] \n",
      "\n"
     ]
    },
    {
     "name": "stderr",
     "output_type": "stream",
     "text": [
      "C:\\Users\\vivid\\Anaconda3\\envs\\test3\\lib\\site-packages\\ipykernel_launcher.py:3: DeprecationWarning: Call to deprecated `most_similar` (Method will be removed in 4.0.0, use self.wv.most_similar() instead).\n",
      "  This is separate from the ipykernel package so we can avoid doing imports until\n",
      "C:\\Users\\vivid\\Anaconda3\\envs\\test3\\lib\\site-packages\\ipykernel_launcher.py:4: DeprecationWarning: Call to deprecated `most_similar` (Method will be removed in 4.0.0, use self.wv.most_similar() instead).\n",
      "  after removing the cwd from sys.path.\n",
      "C:\\Users\\vivid\\Anaconda3\\envs\\test3\\lib\\site-packages\\ipykernel_launcher.py:5: DeprecationWarning: Call to deprecated `most_similar` (Method will be removed in 4.0.0, use self.wv.most_similar() instead).\n",
      "  \"\"\"\n"
     ]
    }
   ],
   "source": [
    "word = '목걸이'\n",
    "\n",
    "print(model_ver3_s200.most_similar(positive=[word], topn=10), '\\n')\n",
    "print(model_ver3_s300.most_similar(positive=[word], topn=10), '\\n')\n",
    "print(model_ver3_s400.most_similar(positive=[word], topn=10), '\\n')"
   ]
  },
  {
   "cell_type": "code",
   "execution_count": 15,
   "metadata": {},
   "outputs": [
    {
     "name": "stdout",
     "output_type": "stream",
     "text": [
      "[('이동가방', 0.6580328941345215), ('비건레더', 0.6176249980926514), ('관절', 0.6128610968589783), ('룰루', 0.588309645652771), ('한의사', 0.5506355166435242), ('오기', 0.5493326783180237), ('똑', 0.5388466715812683), ('해먹', 0.5227678418159485), ('나뚜르마', 0.5204397439956665), ('크레스티드', 0.5181146264076233)] \n",
      "\n",
      "[('이동가방', 0.6505626440048218), ('관절', 0.5908840894699097), ('비건레더', 0.5817937850952148), ('룰루', 0.5609115362167358), ('오기', 0.5541544556617737), ('나뚜르마', 0.5241139531135559), ('한의사', 0.5227599143981934), ('크레스티드', 0.5129071474075317), ('덴탈애', 0.5115562081336975), ('동행', 0.5076634883880615)] \n",
      "\n",
      "[('이동가방', 0.6850111484527588), ('비건레더', 0.596321702003479), ('관절', 0.596060574054718), ('오기', 0.5667534470558167), ('룰루', 0.559958815574646), ('한의사', 0.5435237884521484), ('크레스티드', 0.5390172004699707), ('견생', 0.5243258476257324), ('똑', 0.5023138523101807), ('옵티펫', 0.500246524810791)] \n",
      "\n"
     ]
    },
    {
     "name": "stderr",
     "output_type": "stream",
     "text": [
      "C:\\Users\\vivid\\Anaconda3\\envs\\test3\\lib\\site-packages\\ipykernel_launcher.py:3: DeprecationWarning: Call to deprecated `most_similar` (Method will be removed in 4.0.0, use self.wv.most_similar() instead).\n",
      "  This is separate from the ipykernel package so we can avoid doing imports until\n",
      "C:\\Users\\vivid\\Anaconda3\\envs\\test3\\lib\\site-packages\\ipykernel_launcher.py:4: DeprecationWarning: Call to deprecated `most_similar` (Method will be removed in 4.0.0, use self.wv.most_similar() instead).\n",
      "  after removing the cwd from sys.path.\n",
      "C:\\Users\\vivid\\Anaconda3\\envs\\test3\\lib\\site-packages\\ipykernel_launcher.py:5: DeprecationWarning: Call to deprecated `most_similar` (Method will be removed in 4.0.0, use self.wv.most_similar() instead).\n",
      "  \"\"\"\n"
     ]
    }
   ],
   "source": [
    "word = '반려동물'\n",
    "\n",
    "print(model_ver3_s200.most_similar(positive=[word], topn=10), '\\n')\n",
    "print(model_ver3_s300.most_similar(positive=[word], topn=10), '\\n')\n",
    "print(model_ver3_s400.most_similar(positive=[word], topn=10), '\\n')"
   ]
  },
  {
   "cell_type": "code",
   "execution_count": 5,
   "metadata": {},
   "outputs": [
    {
     "name": "stdout",
     "output_type": "stream",
     "text": [
      "[('부드러움', 0.09345293790102005), ('와인', 0.09180489927530289), ('시스템', 0.08489807695150375), ('작곡', 0.07610447704792023), ('악몽', 0.07496810704469681), ('동양', 0.07281424105167389), ('이유', 0.07248864322900772), ('투잡', 0.07094159722328186), ('콤', 0.06955787539482117), ('루스', 0.06531672924757004)] \n",
      "\n",
      "[('이동가방', 0.6133504509925842), ('관절', 0.566265344619751), ('룰루', 0.5603334307670593), ('비건레더', 0.5587723851203918), ('옵티펫', 0.5580631494522095), ('DNA', 0.5301480293273926), ('한의사', 0.5205246210098267), ('덴탈애', 0.5144257545471191), ('동행', 0.5068615078926086), ('HACCP', 0.4955163598060608)] \n",
      "\n"
     ]
    },
    {
     "name": "stderr",
     "output_type": "stream",
     "text": [
      "C:\\Users\\vivid\\Anaconda3\\envs\\test3\\lib\\site-packages\\ipykernel_launcher.py:9: DeprecationWarning: Call to deprecated `most_similar` (Method will be removed in 4.0.0, use self.wv.most_similar() instead).\n",
      "  if __name__ == '__main__':\n",
      "C:\\Users\\vivid\\Anaconda3\\envs\\test3\\lib\\site-packages\\ipykernel_launcher.py:10: DeprecationWarning: Call to deprecated `most_similar` (Method will be removed in 4.0.0, use self.wv.most_similar() instead).\n",
      "  # Remove the CWD from sys.path while we load stuff.\n"
     ]
    }
   ],
   "source": [
    "from gensim.models import word2vec\n",
    "#from models.word_eval import WordEmbeddingEvaluator\n",
    "\n",
    "model5_400_w6_m6 = word2vec.Word2Vec.load('c:/Users/vivid/바탕 화면/word2vec_03/0119/mixver5_400_w6_m6.model')\n",
    "model5_400_w8_m6 = word2vec.Word2Vec.load('c:/Users/vivid/바탕 화면/word2vec_03/0119/mixver5_400_w8_m6.model')\n",
    "\n",
    "word = '반려동물'\n",
    "\n",
    "print(model5_400_w6_m6.most_similar(positive=[word], topn=10), '\\n')\n",
    "print(model5_400_w8_m6.most_similar(positive=[word], topn=10), '\\n')\n"
   ]
  },
  {
   "cell_type": "code",
   "execution_count": 20,
   "metadata": {},
   "outputs": [
    {
     "name": "stdout",
     "output_type": "stream",
     "text": [
      "[('KODUAL', 0.5245603322982788), ('퀄팩', 0.5121241807937622), ('편리미엄', 0.4955720603466034), ('스크래치', 0.46688538789749146), ('파우치앵콜', 0.4643855094909668), ('큰일', 0.4564427137374878), ('골덴', 0.4533435106277466), ('백', 0.45020025968551636), ('몽', 0.4468848705291748), ('전기매트', 0.4468327760696411)] \n",
      "\n",
      "[('토트', 0.6528812646865845), ('KODUAL', 0.6129468679428101), ('백앵콜', 0.605599045753479), ('LOEKA', 0.5570517778396606), ('팩커블', 0.5552722811698914), ('가델', 0.5551619529724121), ('크로스', 0.5488958358764648), ('퀄팩', 0.538766622543335), ('하지만', 0.5298920273780823), ('LACONIC', 0.5275408625602722)] \n",
      "\n",
      "0.45020026\n"
     ]
    },
    {
     "name": "stderr",
     "output_type": "stream",
     "text": [
      "C:\\Users\\vivid\\Anaconda3\\envs\\test3\\lib\\site-packages\\ipykernel_launcher.py:10: DeprecationWarning: Call to deprecated `most_similar` (Method will be removed in 4.0.0, use self.wv.most_similar() instead).\n",
      "  # Remove the CWD from sys.path while we load stuff.\n",
      "C:\\Users\\vivid\\Anaconda3\\envs\\test3\\lib\\site-packages\\ipykernel_launcher.py:11: DeprecationWarning: Call to deprecated `most_similar` (Method will be removed in 4.0.0, use self.wv.most_similar() instead).\n",
      "  # This is added back by InteractiveShellApp.init_path()\n",
      "C:\\Users\\vivid\\Anaconda3\\envs\\test3\\lib\\site-packages\\ipykernel_launcher.py:12: DeprecationWarning: Call to deprecated `similarity` (Method will be removed in 4.0.0, use self.wv.similarity() instead).\n",
      "  if sys.path[0] == '':\n"
     ]
    }
   ],
   "source": [
    "from gensim.models import word2vec\n",
    "#from models.word_eval import WordEmbeddingEvaluator\n",
    "\n",
    "model5_400_w6_m6 = word2vec.Word2Vec.load('c:/Users/vivid/바탕 화면/word2vec_03/0119/mixver5_400_w6_m6.model')\n",
    "model5_400_w6_m6_test = word2vec.Word2Vec.load('c:/Users/vivid/바탕 화면/word2vec_03/0119/mixver5_400_w6_m6_test.model')\n",
    "\n",
    "word = '가방'\n",
    "word2 = '백'\n",
    "\n",
    "print(model5_400_w6_m6.most_similar(positive=[word], topn=10), '\\n')\n",
    "print(model5_400_w6_m6.most_similar(positive=[word2], topn=10), '\\n')\n",
    "print(model5_400_w6_m6.similarity(word, word2))\n",
    "#print(model5_400_w6_m6_test.most_similar(word, word2), '\\n')\n"
   ]
  },
  {
   "cell_type": "code",
   "execution_count": 22,
   "metadata": {},
   "outputs": [
    {
     "name": "stdout",
     "output_type": "stream",
     "text": [
      "[('향기', 0.6463344097137451), ('프리지아', 0.6187787055969238), ('Yay', 0.6100773811340332), ('은은하다', 0.5840529203414917), ('신들', 0.582282543182373), ('르파써', 0.5812478065490723), ('압생트', 0.5465834140777588), ('리운스', 0.5433222651481628), ('퍼퓸', 0.543152928352356), ('무화과', 0.5330572128295898)] \n",
      "\n",
      "[('오드', 0.6672571301460266), ('스칼렛', 0.5814182758331299), ('무화과', 0.5798699855804443), ('손소독제', 0.5707400441169739), ('뉴트럴', 0.56787109375), ('르파써', 0.5626923441886902), ('Yay', 0.5593395829200745), ('향기', 0.5520590543746948), ('바닐라', 0.5479846000671387), ('향수', 0.543152928352356)] \n",
      "\n",
      "0.5431529\n"
     ]
    },
    {
     "name": "stderr",
     "output_type": "stream",
     "text": [
      "C:\\Users\\vivid\\Anaconda3\\envs\\test3\\lib\\site-packages\\ipykernel_launcher.py:10: DeprecationWarning: Call to deprecated `most_similar` (Method will be removed in 4.0.0, use self.wv.most_similar() instead).\n",
      "  # Remove the CWD from sys.path while we load stuff.\n",
      "C:\\Users\\vivid\\Anaconda3\\envs\\test3\\lib\\site-packages\\ipykernel_launcher.py:11: DeprecationWarning: Call to deprecated `most_similar` (Method will be removed in 4.0.0, use self.wv.most_similar() instead).\n",
      "  # This is added back by InteractiveShellApp.init_path()\n",
      "C:\\Users\\vivid\\Anaconda3\\envs\\test3\\lib\\site-packages\\ipykernel_launcher.py:12: DeprecationWarning: Call to deprecated `similarity` (Method will be removed in 4.0.0, use self.wv.similarity() instead).\n",
      "  if sys.path[0] == '':\n"
     ]
    }
   ],
   "source": [
    "from gensim.models import word2vec\n",
    "#from models.word_eval import WordEmbeddingEvaluator\n",
    "\n",
    "model5_400_w6_m6 = word2vec.Word2Vec.load('c:/Users/vivid/바탕 화면/word2vec_03/0119/mixver5_400_w6_m6.model')\n",
    "model5_400_w6_m6_test = word2vec.Word2Vec.load('c:/Users/vivid/바탕 화면/word2vec_03/0119/mixver5_400_w6_m6_test.model')\n",
    "\n",
    "word = '향수'\n",
    "word2 = '퍼퓸'\n",
    "\n",
    "print(model5_400_w6_m6.most_similar(positive=[word], topn=10), '\\n')\n",
    "print(model5_400_w6_m6.most_similar(positive=[word2], topn=10), '\\n')\n",
    "print(model5_400_w6_m6.similarity(word, word2))\n",
    "#print(model5_400_w6_m6_test.most_similar(word, word2), '\\n')\n"
   ]
  },
  {
   "cell_type": "code",
   "execution_count": 24,
   "metadata": {},
   "outputs": [
    {
     "name": "stdout",
     "output_type": "stream",
     "text": [
      "[('조향사', 0.6357667446136475), ('덮다', 0.603501558303833), ('남아', 0.44346749782562256), ('골든타임', 0.4432896673679352), ('물들다', 0.4414096474647522), ('부용', 0.4334753453731537), ('센트', 0.42482978105545044), ('딥컬렉티브', 0.42320191860198975), ('레이어', 0.4231729805469513), ('숙성', 0.422671377658844), ('100년', 0.4217035174369812), ('나보이', 0.4181493818759918), ('소소하다', 0.40873169898986816), ('탈취제', 0.40770426392555237), ('향', 0.4048433005809784)] \n",
      "\n",
      "[('향기', 0.6463344097137451), ('프리지아', 0.6187787055969238), ('Yay', 0.6100773811340332), ('은은하다', 0.5840529203414917), ('신들', 0.582282543182373), ('르파써', 0.5812478065490723), ('압생트', 0.5465834140777588), ('리운스', 0.5433222651481628), ('퍼퓸', 0.543152928352356), ('무화과', 0.5330572128295898), ('바닐라', 0.5194347500801086), ('YOUR', 0.5165590047836304), ('라일락', 0.5144070386886597), ('머스크', 0.499406099319458), ('비대면', 0.49629834294319153)] \n",
      "\n",
      "0.3283798\n"
     ]
    },
    {
     "name": "stderr",
     "output_type": "stream",
     "text": [
      "C:\\Users\\vivid\\Anaconda3\\envs\\test3\\lib\\site-packages\\ipykernel_launcher.py:4: DeprecationWarning: Call to deprecated `most_similar` (Method will be removed in 4.0.0, use self.wv.most_similar() instead).\n",
      "  after removing the cwd from sys.path.\n",
      "C:\\Users\\vivid\\Anaconda3\\envs\\test3\\lib\\site-packages\\ipykernel_launcher.py:5: DeprecationWarning: Call to deprecated `most_similar` (Method will be removed in 4.0.0, use self.wv.most_similar() instead).\n",
      "  \"\"\"\n",
      "C:\\Users\\vivid\\Anaconda3\\envs\\test3\\lib\\site-packages\\ipykernel_launcher.py:6: DeprecationWarning: Call to deprecated `similarity` (Method will be removed in 4.0.0, use self.wv.similarity() instead).\n",
      "  \n"
     ]
    }
   ],
   "source": [
    "word = '디퓨저'\n",
    "word2 = '향수'\n",
    "\n",
    "print(model5_400_w6_m6.most_similar(positive=[word], topn=15), '\\n')\n",
    "print(model5_400_w6_m6.most_similar(positive=[word2], topn=15), '\\n')\n",
    "print(model5_400_w6_m6.similarity(word, word2))"
   ]
  },
  {
   "cell_type": "code",
   "execution_count": 25,
   "metadata": {},
   "outputs": [
    {
     "name": "stdout",
     "output_type": "stream",
     "text": [
      "[('육즙', 0.5887218713760376), ('라자냐', 0.5644128322601318), ('식물성', 0.5294679403305054), ('채식', 0.523314356803894), ('SNS', 0.5135232210159302), ('동남아', 0.4867318868637085), ('장모', 0.4780500829219818), ('손님', 0.4769017696380615), ('담그다', 0.47413375973701477), ('올리브', 0.4627188444137573)] \n",
      "\n",
      "[('스모크', 0.7075260877609253), ('텍사스', 0.6984959244728088), ('숏립', 0.6666351556777954), ('나보이', 0.6494796276092529), ('채끝', 0.6480687856674194), ('한우', 0.6229506134986877), ('등심', 0.6211704015731812), ('프라이어', 0.6177914142608643), ('닭다리', 0.5810592174530029), ('치킨', 0.5804729461669922)] \n",
      "\n",
      "0.29012552\n"
     ]
    },
    {
     "name": "stderr",
     "output_type": "stream",
     "text": [
      "C:\\Users\\vivid\\Anaconda3\\envs\\test3\\lib\\site-packages\\ipykernel_launcher.py:4: DeprecationWarning: Call to deprecated `most_similar` (Method will be removed in 4.0.0, use self.wv.most_similar() instead).\n",
      "  after removing the cwd from sys.path.\n",
      "C:\\Users\\vivid\\Anaconda3\\envs\\test3\\lib\\site-packages\\ipykernel_launcher.py:5: DeprecationWarning: Call to deprecated `most_similar` (Method will be removed in 4.0.0, use self.wv.most_similar() instead).\n",
      "  \"\"\"\n",
      "C:\\Users\\vivid\\Anaconda3\\envs\\test3\\lib\\site-packages\\ipykernel_launcher.py:6: DeprecationWarning: Call to deprecated `similarity` (Method will be removed in 4.0.0, use self.wv.similarity() instead).\n",
      "  \n"
     ]
    }
   ],
   "source": [
    "word = '고기'\n",
    "word2 = '스테이크'\n",
    "\n",
    "print(model5_400_w6_m6.most_similar(positive=[word], topn=10), '\\n')\n",
    "print(model5_400_w6_m6.most_similar(positive=[word2], topn=10), '\\n')\n",
    "print(model5_400_w6_m6.similarity(word, word2))"
   ]
  },
  {
   "cell_type": "code",
   "execution_count": 26,
   "metadata": {},
   "outputs": [
    {
     "name": "stdout",
     "output_type": "stream",
     "text": [
      "[('다이아몬드', 0.6122653484344482), ('인검', 0.5982991456985474), ('K', 0.5940174460411072), ('실버', 0.584887683391571), ('골드', 0.5803592205047607), ('호접문', 0.5743049383163452), ('소원', 0.5736307501792908), ('기념일', 0.5689949989318848), ('GOLD', 0.5659645795822144), ('탄생석', 0.5599532723426819)] \n",
      "\n",
      "[('루비', 0.7259036302566528), ('다이아몬드', 0.6966719627380371), ('암시', 0.6952734589576721), ('선비', 0.6535249948501587), ('향로', 0.6427128314971924), ('석', 0.6233519911766052), ('colors', 0.5989331007003784), ('각인', 0.5951305627822876), ('셜', 0.5878725051879883), ('러프', 0.5873689651489258)] \n",
      "\n",
      "0.5574955\n"
     ]
    },
    {
     "name": "stderr",
     "output_type": "stream",
     "text": [
      "C:\\Users\\vivid\\Anaconda3\\envs\\test3\\lib\\site-packages\\ipykernel_launcher.py:4: DeprecationWarning: Call to deprecated `most_similar` (Method will be removed in 4.0.0, use self.wv.most_similar() instead).\n",
      "  after removing the cwd from sys.path.\n",
      "C:\\Users\\vivid\\Anaconda3\\envs\\test3\\lib\\site-packages\\ipykernel_launcher.py:5: DeprecationWarning: Call to deprecated `most_similar` (Method will be removed in 4.0.0, use self.wv.most_similar() instead).\n",
      "  \"\"\"\n",
      "C:\\Users\\vivid\\Anaconda3\\envs\\test3\\lib\\site-packages\\ipykernel_launcher.py:6: DeprecationWarning: Call to deprecated `similarity` (Method will be removed in 4.0.0, use self.wv.similarity() instead).\n",
      "  \n"
     ]
    }
   ],
   "source": [
    "word = '목걸이'\n",
    "word2 = '반지'\n",
    "\n",
    "print(model5_400_w6_m6.most_similar(positive=[word], topn=10), '\\n')\n",
    "print(model5_400_w6_m6.most_similar(positive=[word2], topn=10), '\\n')\n",
    "print(model5_400_w6_m6.similarity(word, word2))"
   ]
  },
  {
   "cell_type": "code",
   "execution_count": 28,
   "metadata": {},
   "outputs": [
    {
     "name": "stdout",
     "output_type": "stream",
     "text": [
      "[('캐시', 0.7229436039924622), ('그래서', 0.6883002519607544), ('황금비율', 0.6602307558059692), ('페이크', 0.6541399955749512), ('나일론', 0.6175530552864075), ('아이코닉', 0.6121281981468201), ('나기', 0.5969521403312683), ('울', 0.592039167881012), ('저렴하다', 0.5884568095207214), ('터틀넥', 0.5849898457527161)] \n",
      "\n",
      "[('히팅안감', 0.681182324886322), ('맥시', 0.6748939752578735), ('노블레스', 0.6730872392654419), ('TATE', 0.6635555028915405), ('폴로', 0.638115406036377), ('발마칸', 0.6317105889320374), ('울', 0.6252759695053101), ('과연', 0.624494731426239), ('제일모직', 0.6176903247833252), ('벤치', 0.6159265041351318)] \n",
      "\n",
      "0.34998187\n"
     ]
    }
   ],
   "source": [
    "word = '니트'\n",
    "word2 = '코트'\n",
    "\n",
    "print(model5_400_w6_m6.wv.most_similar(positive=[word], topn=10), '\\n')\n",
    "print(model5_400_w6_m6.wv.most_similar(positive=[word2], topn=10), '\\n')\n",
    "print(model5_400_w6_m6.wv.similarity(word, word2))"
   ]
  },
  {
   "cell_type": "code",
   "execution_count": 32,
   "metadata": {},
   "outputs": [
    {
     "name": "stdout",
     "output_type": "stream",
     "text": [
      "[('다이아몬드', 0.6122653484344482), ('인검', 0.5982991456985474), ('K', 0.5940174460411072), ('실버', 0.584887683391571), ('골드', 0.5803592205047607), ('호접문', 0.5743049383163452), ('소원', 0.5736307501792908), ('기념일', 0.5689949989318848), ('GOLD', 0.5659645795822144), ('탄생석', 0.5599532723426819)] \n",
      "\n",
      "[('루비', 0.7259036302566528), ('다이아몬드', 0.6966719627380371), ('암시', 0.6952734589576721), ('선비', 0.6535249948501587), ('향로', 0.6427128314971924), ('석', 0.6233519911766052), ('colors', 0.5989331007003784), ('각인', 0.5951305627822876), ('셜', 0.5878725051879883), ('러프', 0.5873689651489258)] \n",
      "\n",
      "[('다이아몬드', 0.7416353225708008), ('루비', 0.7139583230018616), ('암시', 0.6878197193145752), ('인검', 0.6597076654434204), ('호접문', 0.6574121713638306), ('골드', 0.6561951637268066), ('K', 0.6551212072372437), ('GOLD', 0.6433044672012329), ('셜', 0.6385963559150696), ('소원', 0.6335071325302124)] \n",
      "\n",
      "[('주얼리', 0.8830431699752808), ('다이아몬드', 0.8617672920227051), ('각인', 0.8397797346115112), ('보석', 0.820307195186615), ('K', 0.8191825151443481), ('다이아', 0.81373530626297), ('골드', 0.793717622756958), ('크리스마스', 0.7790833711624146), ('실버', 0.7778819799423218), ('소원', 0.7606474161148071)] \n",
      "\n",
      "0.5574955\n"
     ]
    }
   ],
   "source": [
    "word = '목걸이'\n",
    "word2 = '반지'\n",
    "print(model5_400_w6_m6.wv.most_similar(positive=[word], topn=10), '\\n')\n",
    "print(model5_400_w6_m6.wv.most_similar(positive=[word2], topn=10), '\\n')\n",
    "\n",
    "print(model5_400_w6_m6.wv.most_similar(positive=[word, word2], topn=10), '\\n')\n",
    "print(model5_400_w6_m6_test.wv.most_similar(positive=[word, word2], topn=10), '\\n')\n",
    "\n",
    "print(model5_400_w6_m6.wv.similarity(word, word2))"
   ]
  },
  {
   "cell_type": "code",
   "execution_count": 33,
   "metadata": {},
   "outputs": [
    {
     "name": "stdout",
     "output_type": "stream",
     "text": [
      "[('KODUAL', 0.5245603322982788), ('퀄팩', 0.5121241807937622), ('편리미엄', 0.4955720603466034), ('스크래치', 0.46688538789749146), ('파우치앵콜', 0.4643855094909668), ('큰일', 0.4564427137374878), ('골덴', 0.4533435106277466), ('백', 0.45020025968551636), ('몽', 0.4468848705291748), ('전기매트', 0.4468327760696411)] \n",
      "\n",
      "[('토트', 0.6528812646865845), ('KODUAL', 0.6129468679428101), ('백앵콜', 0.605599045753479), ('LOEKA', 0.5570517778396606), ('팩커블', 0.5552722811698914), ('가델', 0.5551619529724121), ('크로스', 0.5488958358764648), ('퀄팩', 0.538766622543335), ('하지만', 0.5298920273780823), ('LACONIC', 0.5275408625602722)] \n",
      "\n",
      "[('KODUAL', 0.6679210662841797), ('토트', 0.641304612159729), ('퀄팩', 0.6170617341995239), ('백앵콜', 0.6073483228683472), ('파우치앵콜', 0.5738731622695923), ('스크래치', 0.572212815284729), ('가델', 0.5708914995193481), ('편리미엄', 0.5692639946937561), ('팩커블', 0.5573762059211731), ('LOEKA', 0.5501669049263)] \n",
      "\n",
      "[('수납', 0.9138604402542114), ('미니', 0.863823652267456), ('클러치', 0.8408783674240112), ('토트', 0.8070639967918396), ('크로스', 0.8036220669746399), ('파우치', 0.7871634364128113), ('핸드폰', 0.7850565910339355), ('멀티', 0.7628697156906128), ('숄더', 0.7618061304092407), ('텀블러', 0.753163754940033)] \n",
      "\n",
      "0.45020026\n"
     ]
    }
   ],
   "source": [
    "word = '가방'\n",
    "word2 = '백'\n",
    "print(model5_400_w6_m6.wv.most_similar(positive=[word], topn=10), '\\n')\n",
    "print(model5_400_w6_m6.wv.most_similar(positive=[word2], topn=10), '\\n')\n",
    "\n",
    "print(model5_400_w6_m6.wv.most_similar(positive=[word, word2], topn=10), '\\n')\n",
    "print(model5_400_w6_m6_test.wv.most_similar(positive=[word, word2], topn=10), '\\n')\n",
    "\n",
    "print(model5_400_w6_m6.wv.similarity(word, word2))"
   ]
  },
  {
   "cell_type": "code",
   "execution_count": 34,
   "metadata": {},
   "outputs": [
    {
     "name": "stdout",
     "output_type": "stream",
     "text": [
      "[('향기', 0.6463344097137451), ('프리지아', 0.6187787055969238), ('Yay', 0.6100773811340332), ('은은하다', 0.5840529203414917), ('신들', 0.582282543182373), ('르파써', 0.5812478065490723), ('압생트', 0.5465834140777588), ('리운스', 0.5433222651481628), ('퍼퓸', 0.543152928352356), ('무화과', 0.5330572128295898)] \n",
      "\n",
      "[('오드', 0.6672571301460266), ('스칼렛', 0.5814182758331299), ('무화과', 0.5798699855804443), ('손소독제', 0.5707400441169739), ('뉴트럴', 0.56787109375), ('르파써', 0.5626923441886902), ('Yay', 0.5593395829200745), ('향기', 0.5520590543746948), ('바닐라', 0.5479846000671387), ('향수', 0.543152928352356)] \n",
      "\n",
      "[('향기', 0.68215012550354), ('Yay', 0.6656561493873596), ('르파써', 0.6511541604995728), ('프리지아', 0.6487805843353271), ('오드', 0.6407781839370728), ('은은하다', 0.636804461479187), ('무화과', 0.6335009932518005), ('신들', 0.6247202157974243), ('바닐라', 0.6075969934463501), ('관능', 0.5854243040084839)] \n",
      "\n",
      "[('향', 0.8517025709152222), ('향기', 0.7935187816619873), ('빨갛다', 0.7565449476242065), ('향기롭다', 0.741371750831604), ('t', 0.7318407297134399), ('피스', 0.7284082770347595), ('남아', 0.7282654643058777), ('장미', 0.7173012495040894), ('디퓨저', 0.7119728326797485), ('전기자전거', 0.7115122675895691)] \n",
      "\n",
      "0.5431529\n"
     ]
    }
   ],
   "source": [
    "word = '향수'\n",
    "word2 = '퍼퓸'\n",
    "print(model5_400_w6_m6.wv.most_similar(positive=[word], topn=10), '\\n')\n",
    "print(model5_400_w6_m6.wv.most_similar(positive=[word2], topn=10), '\\n')\n",
    "\n",
    "print(model5_400_w6_m6.wv.most_similar(positive=[word, word2], topn=10), '\\n')\n",
    "print(model5_400_w6_m6_test.wv.most_similar(positive=[word, word2], topn=10), '\\n')\n",
    "\n",
    "print(model5_400_w6_m6.wv.similarity(word, word2))"
   ]
  },
  {
   "cell_type": "code",
   "execution_count": null,
   "metadata": {},
   "outputs": [],
   "source": []
  }
 ],
 "metadata": {
  "kernelspec": {
   "display_name": "Python 3",
   "language": "python",
   "name": "python3"
  },
  "language_info": {
   "codemirror_mode": {
    "name": "ipython",
    "version": 3
   },
   "file_extension": ".py",
   "mimetype": "text/x-python",
   "name": "python",
   "nbconvert_exporter": "python",
   "pygments_lexer": "ipython3",
   "version": "3.7.9"
  }
 },
 "nbformat": 4,
 "nbformat_minor": 4
}
